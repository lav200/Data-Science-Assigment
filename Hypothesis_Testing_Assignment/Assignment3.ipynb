{
 "cells": [
  {
   "attachments": {},
   "cell_type": "markdown",
   "id": "e1914cf9",
   "metadata": {},
   "source": [
    "## Problem Statement 01\n",
    "\n",
    "A F&B manager wants to determine whether there is any significant difference in the diameter of the cutlet between two units. A randomly selected sample of cutlets was collected from both units and measured? Analyze the data and draw inferences at 5% significance level. Please state the assumptions and tests that you carried out to check validity of the assumptions."
   ]
  },
  {
   "cell_type": "markdown",
   "id": "044cb119",
   "metadata": {},
   "source": [
    "# Data Description\n",
    "### alpha =0.05(95% Confidence)\n",
    "### Is Y1 and Y2 are normal\n",
    "### HO = Y1 and Y2 are normal\n",
    "### H1 = Y1 and Y2 are not normal\n"
   ]
  },
  {
   "cell_type": "code",
   "execution_count": 4,
   "id": "417fe691",
   "metadata": {},
   "outputs": [],
   "source": [
    "import pandas as pd\n",
    "import numpy as np\n",
    "from scipy import stats"
   ]
  },
  {
   "cell_type": "code",
   "execution_count": 7,
   "id": "8426c54e",
   "metadata": {},
   "outputs": [],
   "source": [
    "df  = pd.read_csv('Cutlets.csv')"
   ]
  },
  {
   "cell_type": "code",
   "execution_count": 9,
   "id": "909cf384",
   "metadata": {},
   "outputs": [
    {
     "data": {
      "text/html": [
       "<div>\n",
       "<style scoped>\n",
       "    .dataframe tbody tr th:only-of-type {\n",
       "        vertical-align: middle;\n",
       "    }\n",
       "\n",
       "    .dataframe tbody tr th {\n",
       "        vertical-align: top;\n",
       "    }\n",
       "\n",
       "    .dataframe thead th {\n",
       "        text-align: right;\n",
       "    }\n",
       "</style>\n",
       "<table border=\"1\" class=\"dataframe\">\n",
       "  <thead>\n",
       "    <tr style=\"text-align: right;\">\n",
       "      <th></th>\n",
       "      <th>Unit A</th>\n",
       "      <th>Unit B</th>\n",
       "    </tr>\n",
       "  </thead>\n",
       "  <tbody>\n",
       "    <tr>\n",
       "      <th>9</th>\n",
       "      <td>6.8236</td>\n",
       "      <td>7.0503</td>\n",
       "    </tr>\n",
       "    <tr>\n",
       "      <th>2</th>\n",
       "      <td>6.9157</td>\n",
       "      <td>6.7300</td>\n",
       "    </tr>\n",
       "    <tr>\n",
       "      <th>21</th>\n",
       "      <td>7.1560</td>\n",
       "      <td>7.4220</td>\n",
       "    </tr>\n",
       "    <tr>\n",
       "      <th>34</th>\n",
       "      <td>6.9405</td>\n",
       "      <td>7.3875</td>\n",
       "    </tr>\n",
       "    <tr>\n",
       "      <th>23</th>\n",
       "      <td>7.2854</td>\n",
       "      <td>7.1688</td>\n",
       "    </tr>\n",
       "  </tbody>\n",
       "</table>\n",
       "</div>"
      ],
      "text/plain": [
       "    Unit A  Unit B\n",
       "9   6.8236  7.0503\n",
       "2   6.9157  6.7300\n",
       "21  7.1560  7.4220\n",
       "34  6.9405  7.3875\n",
       "23  7.2854  7.1688"
      ]
     },
     "execution_count": 9,
     "metadata": {},
     "output_type": "execute_result"
    }
   ],
   "source": [
    "df.sample(5)"
   ]
  },
  {
   "cell_type": "code",
   "execution_count": 14,
   "id": "b7d9cf90",
   "metadata": {},
   "outputs": [
    {
     "name": "stdout",
     "output_type": "stream",
     "text": [
      "0.9649459719657898 0.31998491287231445\n"
     ]
    }
   ],
   "source": [
    "# Normality Test For Unit A\n",
    "from scipy.stats import shapiro\n",
    "stat, p = shapiro(df[\"Unit A\"])\n",
    "print(stat,p)"
   ]
  },
  {
   "cell_type": "code",
   "execution_count": 15,
   "id": "870e1552",
   "metadata": {},
   "outputs": [
    {
     "name": "stdout",
     "output_type": "stream",
     "text": [
      "0.9727305769920349 0.5225146412849426\n"
     ]
    }
   ],
   "source": [
    "# Normality Test For Unit B\n",
    "from scipy.stats import shapiro\n",
    "stat, p = shapiro(df[\"Unit B\"])\n",
    "print(stat,p)"
   ]
  },
  {
   "cell_type": "markdown",
   "id": "331335b2",
   "metadata": {},
   "source": [
    "##### P value for unit A == 0.3199> alpha\n",
    "##### P value for unit B == 0.522> alpha\n",
    "### Ho is accepted. Y1 and Y2 are normal"
   ]
  },
  {
   "cell_type": "markdown",
   "id": "58a09cc3",
   "metadata": {},
   "source": [
    "## The Data is normally distributed now we perform T-test\n",
    "#### HO == Y1 and Y2 Are Equal(There is no significance difference between     diameter of the Cutlets)\n",
    "#### H1 == Y1 and Y2 are not Equal((There is a significance difference between diameter of the Cutlets)"
   ]
  },
  {
   "cell_type": "code",
   "execution_count": 17,
   "id": "c4c264fd",
   "metadata": {},
   "outputs": [
    {
     "data": {
      "text/plain": [
       "Ttest_relResult(statistic=0.7536787225614316, pvalue=0.4562300768038412)"
      ]
     },
     "execution_count": 17,
     "metadata": {},
     "output_type": "execute_result"
    }
   ],
   "source": [
    "#T-test\n",
    "stats.ttest_rel(df[\"Unit A\"], df[\"Unit B\"])"
   ]
  },
  {
   "cell_type": "markdown",
   "id": "1aad09ae",
   "metadata": {},
   "source": [
    "### P value of the Paired T Test is == 0.45 > alpha\n",
    "#### Thus H0 is accepted.\n",
    "#### Mean of both Y1 and Y2 are equal\n"
   ]
  },
  {
   "cell_type": "code",
   "execution_count": null,
   "id": "dc96cb71",
   "metadata": {},
   "outputs": [],
   "source": []
  },
  {
   "attachments": {},
   "cell_type": "markdown",
   "id": "6726b91a",
   "metadata": {},
   "source": [
    "## Problem Statement 02\n",
    "####   A hospital wants to determine whether there is any difference in the average Turn Around Time (TAT) of reports of the laboratories on their preferred list. They collected a random sample and recorded TAT for reports of 4 laboratories. TAT is defined as sample collected to report dispatch.Analyze the data and determine whether there is any difference in average TAT among the different laboratories at 5% significance level.\n"
   ]
  },
  {
   "cell_type": "markdown",
   "id": "045739e4",
   "metadata": {},
   "source": [
    "## Data Description\n",
    "##### alpha ==0.05(95% Confidence)\n",
    "##### H0 = Y1,Y2,Y3 and Y4 are normal\n",
    "##### H1 = Y1,Y2,Y3 and Y4 are not normal\n"
   ]
  },
  {
   "cell_type": "code",
   "execution_count": 18,
   "id": "4c59cbea",
   "metadata": {},
   "outputs": [],
   "source": [
    "df2 =pd.read_csv('LabTAT.csv')"
   ]
  },
  {
   "cell_type": "code",
   "execution_count": 19,
   "id": "8d6d6574",
   "metadata": {},
   "outputs": [
    {
     "data": {
      "text/html": [
       "<div>\n",
       "<style scoped>\n",
       "    .dataframe tbody tr th:only-of-type {\n",
       "        vertical-align: middle;\n",
       "    }\n",
       "\n",
       "    .dataframe tbody tr th {\n",
       "        vertical-align: top;\n",
       "    }\n",
       "\n",
       "    .dataframe thead th {\n",
       "        text-align: right;\n",
       "    }\n",
       "</style>\n",
       "<table border=\"1\" class=\"dataframe\">\n",
       "  <thead>\n",
       "    <tr style=\"text-align: right;\">\n",
       "      <th></th>\n",
       "      <th>Laboratory 1</th>\n",
       "      <th>Laboratory 2</th>\n",
       "      <th>Laboratory 3</th>\n",
       "      <th>Laboratory 4</th>\n",
       "    </tr>\n",
       "  </thead>\n",
       "  <tbody>\n",
       "    <tr>\n",
       "      <th>81</th>\n",
       "      <td>175.49</td>\n",
       "      <td>156.23</td>\n",
       "      <td>219.55</td>\n",
       "      <td>154.06</td>\n",
       "    </tr>\n",
       "    <tr>\n",
       "      <th>3</th>\n",
       "      <td>177.33</td>\n",
       "      <td>183.00</td>\n",
       "      <td>199.61</td>\n",
       "      <td>176.42</td>\n",
       "    </tr>\n",
       "    <tr>\n",
       "      <th>11</th>\n",
       "      <td>193.37</td>\n",
       "      <td>140.55</td>\n",
       "      <td>198.37</td>\n",
       "      <td>183.67</td>\n",
       "    </tr>\n",
       "    <tr>\n",
       "      <th>9</th>\n",
       "      <td>165.88</td>\n",
       "      <td>198.68</td>\n",
       "      <td>208.43</td>\n",
       "      <td>161.98</td>\n",
       "    </tr>\n",
       "    <tr>\n",
       "      <th>24</th>\n",
       "      <td>178.30</td>\n",
       "      <td>182.69</td>\n",
       "      <td>214.58</td>\n",
       "      <td>166.42</td>\n",
       "    </tr>\n",
       "  </tbody>\n",
       "</table>\n",
       "</div>"
      ],
      "text/plain": [
       "    Laboratory 1  Laboratory 2  Laboratory 3  Laboratory 4\n",
       "81        175.49        156.23        219.55        154.06\n",
       "3         177.33        183.00        199.61        176.42\n",
       "11        193.37        140.55        198.37        183.67\n",
       "9         165.88        198.68        208.43        161.98\n",
       "24        178.30        182.69        214.58        166.42"
      ]
     },
     "execution_count": 19,
     "metadata": {},
     "output_type": "execute_result"
    }
   ],
   "source": [
    "df2.sample(5)"
   ]
  },
  {
   "cell_type": "code",
   "execution_count": 25,
   "id": "17381e8e",
   "metadata": {},
   "outputs": [
    {
     "name": "stdout",
     "output_type": "stream",
     "text": [
      "0.990183413028717 0.5507769584655762\n"
     ]
    }
   ],
   "source": [
    "#Normality Test For Y1 \n",
    "stat, p = shapiro(df2[\"Laboratory 1\"])\n",
    "print(stat,p)"
   ]
  },
  {
   "cell_type": "code",
   "execution_count": 26,
   "id": "2fb360ae",
   "metadata": {},
   "outputs": [
    {
     "name": "stdout",
     "output_type": "stream",
     "text": [
      "0.9936320185661316 0.8637352585792542\n"
     ]
    }
   ],
   "source": [
    "#Normality Test For Y2\n",
    "stat, p = shapiro(df2[\"Laboratory 2\"])\n",
    "print(stat,p)"
   ]
  },
  {
   "cell_type": "code",
   "execution_count": 27,
   "id": "bcfc9afd",
   "metadata": {},
   "outputs": [
    {
     "name": "stdout",
     "output_type": "stream",
     "text": [
      "0.988633930683136 0.42045730352401733\n"
     ]
    }
   ],
   "source": [
    "#Normality Test For Y3\n",
    "stat, p = shapiro(df2[\"Laboratory 3\"])\n",
    "print(stat,p)"
   ]
  },
  {
   "cell_type": "code",
   "execution_count": 28,
   "id": "53407c0d",
   "metadata": {},
   "outputs": [
    {
     "name": "stdout",
     "output_type": "stream",
     "text": [
      "0.9913760423660278 0.6619619131088257\n"
     ]
    }
   ],
   "source": [
    "#Normality Test For Y4\n",
    "stat, p = shapiro(df2[\"Laboratory 4\"])\n",
    "print(stat,p)"
   ]
  },
  {
   "cell_type": "markdown",
   "id": "5c84d10a",
   "metadata": {},
   "source": [
    "### Y1,Y2,Y3 and Y4 are >alpha\n",
    "## Ho is accepted."
   ]
  },
  {
   "cell_type": "markdown",
   "id": "39b1a2d3",
   "metadata": {},
   "source": [
    "## Variance\n",
    "#### H0 == Variance of all 4 laboratories are the same\n",
    "#### H1 == Variance of all 4 laboratories are the not same"
   ]
  },
  {
   "cell_type": "code",
   "execution_count": 31,
   "id": "b2d81214",
   "metadata": {},
   "outputs": [
    {
     "data": {
      "text/plain": [
       "LeveneResult(statistic=2.599642500418024, pvalue=0.05161343808309816)"
      ]
     },
     "execution_count": 31,
     "metadata": {},
     "output_type": "execute_result"
    }
   ],
   "source": [
    "stats.levene(df2[\"Laboratory 1\"], df2[\"Laboratory 2\"], df2[\"Laboratory 3\"], df2[\"Laboratory 4\"])"
   ]
  },
  {
   "cell_type": "markdown",
   "id": "1322464b",
   "metadata": {},
   "source": [
    "#### P Value of Variance test is == 0.051 >alpha\n",
    "#### H0 is Accepted"
   ]
  },
  {
   "cell_type": "markdown",
   "id": "5ad36d82",
   "metadata": {},
   "source": [
    "### H0 is accepted so we can perform one way anova test\n",
    "#### H0 == Mean TAT for 4 laboratories equal (There is no significance difference between TAT of the laboratories)\n",
    "#### H1 == Mean TAT for 4 laboratories not equal (There is a significance difference between TAT of the laboratories)"
   ]
  },
  {
   "cell_type": "code",
   "execution_count": 33,
   "id": "247375b0",
   "metadata": {},
   "outputs": [
    {
     "name": "stderr",
     "output_type": "stream",
     "text": [
      "C:\\Users\\User\\AppData\\Local\\Temp\\ipykernel_13280\\2889530591.py:1: DeprecationWarning: Please use `f_oneway` from the `scipy.stats` namespace, the `scipy.stats.stats` namespace is deprecated.\n",
      "  stats.stats.f_oneway(df2[\"Laboratory 1\"], df2[\"Laboratory 2\"], df2[\"Laboratory 3\"], df2[\"Laboratory 4\"])\n"
     ]
    },
    {
     "data": {
      "text/plain": [
       "F_onewayResult(statistic=118.70421654401437, pvalue=2.1156708949992414e-57)"
      ]
     },
     "execution_count": 33,
     "metadata": {},
     "output_type": "execute_result"
    }
   ],
   "source": [
    "stats.stats.f_oneway(df2[\"Laboratory 1\"], df2[\"Laboratory 2\"], df2[\"Laboratory 3\"], df2[\"Laboratory 4\"])\n"
   ]
  },
  {
   "cell_type": "markdown",
   "id": "ac11aa22",
   "metadata": {},
   "source": [
    "## P value of the One way Anova test is == 2e-16 < alpha\n",
    "\n",
    "####  H1 is accepted.\n",
    "#### Mean TAT for 4 laboratories not equal (There is a significance difference between TAT of the laboratories)"
   ]
  },
  {
   "cell_type": "code",
   "execution_count": null,
   "id": "4c6da2b3",
   "metadata": {},
   "outputs": [],
   "source": []
  },
  {
   "attachments": {},
   "cell_type": "markdown",
   "id": "8411d571",
   "metadata": {},
   "source": [
    "## Problem Statement 03\n",
    "##### Sales of products in four different regions is tabulated for males and females. Find if male-female buyer rations are similar across regions.\n"
   ]
  },
  {
   "cell_type": "markdown",
   "id": "0debeb79",
   "metadata": {},
   "source": [
    "## Data Description\n",
    "#### alpha = 0.05(95% Confidence)\n",
    "##### Since there are more than 2 variable we will perform Chi-Square test"
   ]
  },
  {
   "cell_type": "code",
   "execution_count": 34,
   "id": "fb1645c5",
   "metadata": {},
   "outputs": [],
   "source": [
    "\n",
    "df3 = pd.read_csv('BuyerRatio.csv')"
   ]
  },
  {
   "cell_type": "code",
   "execution_count": 36,
   "id": "6f4e4d32",
   "metadata": {},
   "outputs": [
    {
     "data": {
      "text/html": [
       "<div>\n",
       "<style scoped>\n",
       "    .dataframe tbody tr th:only-of-type {\n",
       "        vertical-align: middle;\n",
       "    }\n",
       "\n",
       "    .dataframe tbody tr th {\n",
       "        vertical-align: top;\n",
       "    }\n",
       "\n",
       "    .dataframe thead th {\n",
       "        text-align: right;\n",
       "    }\n",
       "</style>\n",
       "<table border=\"1\" class=\"dataframe\">\n",
       "  <thead>\n",
       "    <tr style=\"text-align: right;\">\n",
       "      <th></th>\n",
       "      <th>Observed Values</th>\n",
       "      <th>East</th>\n",
       "      <th>West</th>\n",
       "      <th>North</th>\n",
       "      <th>South</th>\n",
       "    </tr>\n",
       "  </thead>\n",
       "  <tbody>\n",
       "    <tr>\n",
       "      <th>0</th>\n",
       "      <td>Males</td>\n",
       "      <td>50</td>\n",
       "      <td>142</td>\n",
       "      <td>131</td>\n",
       "      <td>70</td>\n",
       "    </tr>\n",
       "    <tr>\n",
       "      <th>1</th>\n",
       "      <td>Females</td>\n",
       "      <td>435</td>\n",
       "      <td>1523</td>\n",
       "      <td>1356</td>\n",
       "      <td>750</td>\n",
       "    </tr>\n",
       "  </tbody>\n",
       "</table>\n",
       "</div>"
      ],
      "text/plain": [
       "  Observed Values  East  West  North  South\n",
       "0           Males    50   142    131     70\n",
       "1         Females   435  1523   1356    750"
      ]
     },
     "execution_count": 36,
     "metadata": {},
     "output_type": "execute_result"
    }
   ],
   "source": [
    "df3.head()"
   ]
  },
  {
   "cell_type": "code",
   "execution_count": 39,
   "id": "2e8bc923",
   "metadata": {},
   "outputs": [
    {
     "data": {
      "text/plain": [
       "(1.5959455386610577,\n",
       " 0.6603094907091882,\n",
       " 3,\n",
       " array([[  42.76531299,  442.23468701],\n",
       "        [ 146.81287862, 1518.18712138],\n",
       "        [ 131.11756787, 1355.88243213],\n",
       "        [  72.30424052,  747.69575948]]))"
      ]
     },
     "execution_count": 39,
     "metadata": {},
     "output_type": "execute_result"
    }
   ],
   "source": [
    "# Chi-Square Test\n",
    "#H0 == The male-female buyer rations are similar across regions\n",
    "#H1 == The male-female buyer rations are not similar across regions\n",
    "\n",
    "stats.chi2_contingency([df3[\"East\"], df3[\"West\"], df3[\"North\"], df3[\"South\"]])\n"
   ]
  },
  {
   "cell_type": "markdown",
   "id": "91c60c94",
   "metadata": {},
   "source": [
    "#### P-value Of Chi-Square Test  = 0.66030> alpha\n",
    "###  HO is accepted.\n",
    "### The male-female buyer rations are similar across regions"
   ]
  },
  {
   "cell_type": "code",
   "execution_count": null,
   "id": "97c9388d",
   "metadata": {},
   "outputs": [],
   "source": []
  },
  {
   "attachments": {},
   "cell_type": "markdown",
   "id": "306797b4",
   "metadata": {},
   "source": [
    "## Problem Statement 04\n",
    "\n",
    "##### TeleCall uses 4 centers around the globe to process customer order forms. They audit a certain %  of the customer order forms. Any error in order form renders it defective and has to be reworked before processing.  The manager wants to check whether the defective %  varies by centre. Please analyze the data at 5% significance level and help the manager draw appropriate inferences"
   ]
  },
  {
   "cell_type": "code",
   "execution_count": 42,
   "id": "f127601a",
   "metadata": {},
   "outputs": [],
   "source": [
    "# Data Discription\n",
    "#alpha = 0.05(95% Confidence Interval).\n",
    "#Since There are more than 2 variable so we can perform Chi-Square test.\n",
    "df4 = pd.read_csv('Costomer+OrderForm.csv')"
   ]
  },
  {
   "cell_type": "code",
   "execution_count": 49,
   "id": "d39d4d42",
   "metadata": {},
   "outputs": [
    {
     "data": {
      "text/html": [
       "<div>\n",
       "<style scoped>\n",
       "    .dataframe tbody tr th:only-of-type {\n",
       "        vertical-align: middle;\n",
       "    }\n",
       "\n",
       "    .dataframe tbody tr th {\n",
       "        vertical-align: top;\n",
       "    }\n",
       "\n",
       "    .dataframe thead th {\n",
       "        text-align: right;\n",
       "    }\n",
       "</style>\n",
       "<table border=\"1\" class=\"dataframe\">\n",
       "  <thead>\n",
       "    <tr style=\"text-align: right;\">\n",
       "      <th></th>\n",
       "      <th>Phillippines</th>\n",
       "      <th>Indonesia</th>\n",
       "      <th>Malta</th>\n",
       "      <th>India</th>\n",
       "    </tr>\n",
       "  </thead>\n",
       "  <tbody>\n",
       "    <tr>\n",
       "      <th>0</th>\n",
       "      <td>Error Free</td>\n",
       "      <td>Error Free</td>\n",
       "      <td>Defective</td>\n",
       "      <td>Error Free</td>\n",
       "    </tr>\n",
       "    <tr>\n",
       "      <th>1</th>\n",
       "      <td>Error Free</td>\n",
       "      <td>Error Free</td>\n",
       "      <td>Error Free</td>\n",
       "      <td>Defective</td>\n",
       "    </tr>\n",
       "    <tr>\n",
       "      <th>2</th>\n",
       "      <td>Error Free</td>\n",
       "      <td>Defective</td>\n",
       "      <td>Defective</td>\n",
       "      <td>Error Free</td>\n",
       "    </tr>\n",
       "    <tr>\n",
       "      <th>3</th>\n",
       "      <td>Error Free</td>\n",
       "      <td>Error Free</td>\n",
       "      <td>Error Free</td>\n",
       "      <td>Error Free</td>\n",
       "    </tr>\n",
       "    <tr>\n",
       "      <th>4</th>\n",
       "      <td>Error Free</td>\n",
       "      <td>Error Free</td>\n",
       "      <td>Defective</td>\n",
       "      <td>Error Free</td>\n",
       "    </tr>\n",
       "  </tbody>\n",
       "</table>\n",
       "</div>"
      ],
      "text/plain": [
       "  Phillippines   Indonesia       Malta       India\n",
       "0   Error Free  Error Free   Defective  Error Free\n",
       "1   Error Free  Error Free  Error Free   Defective\n",
       "2   Error Free   Defective   Defective  Error Free\n",
       "3   Error Free  Error Free  Error Free  Error Free\n",
       "4   Error Free  Error Free   Defective  Error Free"
      ]
     },
     "execution_count": 49,
     "metadata": {},
     "output_type": "execute_result"
    }
   ],
   "source": [
    "df4.head(5)"
   ]
  },
  {
   "cell_type": "markdown",
   "id": "99e999e9",
   "metadata": {},
   "source": [
    "## Chi-Square Test\n",
    "#### H0 == The defective % does not varies by centre\n",
    "#### H1 == The defective % does varies by centre"
   ]
  },
  {
   "cell_type": "code",
   "execution_count": 53,
   "id": "f8779832",
   "metadata": {},
   "outputs": [
    {
     "data": {
      "text/plain": [
       "(3.8589606858203545,\n",
       " 0.2771020991233144,\n",
       " 3,\n",
       " array([[271.75,  28.25],\n",
       "        [271.75,  28.25],\n",
       "        [271.75,  28.25],\n",
       "        [271.75,  28.25]]))"
      ]
     },
     "execution_count": 53,
     "metadata": {},
     "output_type": "execute_result"
    }
   ],
   "source": [
    "stats.chi2_contingency([df4['Phillippines'].value_counts(), df4['Indonesia'].value_counts(), df4['Malta'].value_counts(), df4['India'].value_counts()])"
   ]
  },
  {
   "cell_type": "markdown",
   "id": "baaa4a78",
   "metadata": {},
   "source": [
    "## P value of Chi-Square test == 0.277 > alpha\n",
    "### HO is accepted.\n",
    "### defective % does not varies significantly by centres"
   ]
  },
  {
   "cell_type": "code",
   "execution_count": null,
   "id": "fc25a98d",
   "metadata": {},
   "outputs": [],
   "source": []
  }
 ],
 "metadata": {
  "kernelspec": {
   "display_name": "Python 3 (ipykernel)",
   "language": "python",
   "name": "python3"
  },
  "language_info": {
   "codemirror_mode": {
    "name": "ipython",
    "version": 3
   },
   "file_extension": ".py",
   "mimetype": "text/x-python",
   "name": "python",
   "nbconvert_exporter": "python",
   "pygments_lexer": "ipython3",
   "version": "3.9.13"
  }
 },
 "nbformat": 4,
 "nbformat_minor": 5
}
